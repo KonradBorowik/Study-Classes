{
 "cells": [
  {
   "cell_type": "code",
   "execution_count": 1,
   "metadata": {},
   "outputs": [],
   "source": [
    "import numpy as np\n",
    "import matplotlib.pyplot as plt\n",
    "from scipy import signal\n",
    "import sys\n",
    "from scipy.integrate import solve_ivp\n",
    "import scipy.linalg as al"
   ]
  },
  {
   "cell_type": "code",
   "execution_count": 2,
   "metadata": {},
   "outputs": [],
   "source": [
    "b = 0.5\n",
    "k = 1\n",
    "m = 1\n",
    "Tp = 0.1\n",
    "Tf = 10 #czas symulacji\n",
    "samples =int(Tf/Tp + 1)\n",
    "T = np.linspace(0,Tf,samples)"
   ]
  },
  {
   "cell_type": "code",
   "execution_count": 3,
   "metadata": {},
   "outputs": [
    {
     "data": {
      "text/plain": [
       "array([-0.94762494, -0.0510634 ,  0.51797431, -0.27387768, -0.41910572,\n",
       "       -0.20395648,  0.39356752,  0.76555062, -2.53852571, -0.50880184,\n",
       "        0.27107259, -0.22991237,  0.41978544,  0.56204257,  1.51996327,\n",
       "        0.3428239 ,  1.32019985,  0.66373417,  0.79769882,  0.68344792,\n",
       "        1.78413332, -0.59068109,  0.34696679, -1.35248   , -1.51448029,\n",
       "       -0.40614286, -0.06864191, -1.08443571,  1.79056826, -0.2170193 ,\n",
       "        1.44820142, -0.17220545, -0.10595267, -0.32956025,  0.90174126,\n",
       "        1.91077535,  0.1780384 ,  0.15403109, -0.84463739,  1.06296201,\n",
       "       -0.67235588,  0.73056081,  0.37146646, -0.54431863, -1.8268823 ,\n",
       "       -0.555525  ,  1.24358172, -0.94335187,  1.81295503, -0.97988373,\n",
       "        0.33850015, -1.36085409,  0.70932627, -0.73473339,  0.64255562,\n",
       "        1.69631078,  0.29453279,  0.38199682, -0.77535255, -0.17759358,\n",
       "       -0.41952479,  1.08179109, -1.36250821, -0.1444112 ,  0.2480513 ,\n",
       "       -0.39251187, -0.5072532 , -0.8403857 ,  0.33397473,  1.87790182,\n",
       "       -0.70541076, -0.35724025,  0.86842907,  1.33297358,  0.48247278,\n",
       "        0.53529896, -0.13607944, -0.04711436,  1.20813058, -1.47567021,\n",
       "       -0.69225709, -0.25325316, -0.31859152, -0.00809706,  0.37443651,\n",
       "        0.96311738, -1.2129116 , -0.94502559, -0.69777606, -2.04955341,\n",
       "        1.10793179, -0.42606369,  1.92690689, -1.53419482,  0.58118644,\n",
       "        0.15494689,  0.30779197, -0.27098959, -0.0859861 ,  0.649398  ,\n",
       "        2.77981915])"
      ]
     },
     "execution_count": 3,
     "metadata": {},
     "output_type": "execute_result"
    }
   ],
   "source": [
    "V = np.random.normal(0,1,samples) #szum wyjscia\n",
    "W =np.random.normal(0,1,samples)  #szum modelowania\n",
    "V"
   ]
  },
  {
   "cell_type": "code",
   "execution_count": 4,
   "metadata": {},
   "outputs": [
    {
     "data": {
      "text/plain": [
       "array([ 0.        ,  0.09983342,  0.19866933,  0.29552021,  0.38941834,\n",
       "        0.47942554,  0.56464247,  0.64421769,  0.71735609,  0.78332691,\n",
       "        0.84147098,  0.89120736,  0.93203909,  0.96355819,  0.98544973,\n",
       "        0.99749499,  0.9995736 ,  0.99166481,  0.97384763,  0.94630009,\n",
       "        0.90929743,  0.86320937,  0.8084964 ,  0.74570521,  0.67546318,\n",
       "        0.59847214,  0.51550137,  0.42737988,  0.33498815,  0.23924933,\n",
       "        0.14112001,  0.04158066, -0.05837414, -0.15774569, -0.2555411 ,\n",
       "       -0.35078323, -0.44252044, -0.52983614, -0.61185789, -0.68776616,\n",
       "       -0.7568025 , -0.81827711, -0.87157577, -0.91616594, -0.95160207,\n",
       "       -0.97753012, -0.993691  , -0.99992326, -0.99616461, -0.98245261,\n",
       "       -0.95892427, -0.92581468, -0.88345466, -0.83226744, -0.77276449,\n",
       "       -0.70554033, -0.63126664, -0.55068554, -0.46460218, -0.37387666,\n",
       "       -0.2794155 , -0.1821625 , -0.0830894 ,  0.0168139 ,  0.1165492 ,\n",
       "        0.21511999,  0.31154136,  0.40484992,  0.49411335,  0.57843976,\n",
       "        0.6569866 ,  0.72896904,  0.79366786,  0.85043662,  0.8987081 ,\n",
       "        0.93799998,  0.96791967,  0.98816823,  0.99854335,  0.99894134,\n",
       "        0.98935825,  0.96988981,  0.94073056,  0.90217183,  0.85459891,\n",
       "        0.79848711,  0.7343971 ,  0.66296923,  0.58491719,  0.50102086,\n",
       "        0.41211849,  0.31909836,  0.22288991,  0.12445442,  0.02477543,\n",
       "       -0.07515112, -0.17432678, -0.27176063, -0.36647913, -0.45753589,\n",
       "       -0.54402111])"
      ]
     },
     "execution_count": 4,
     "metadata": {},
     "output_type": "execute_result"
    }
   ],
   "source": [
    "U = np.sin(T) # wejscie\n",
    "U"
   ]
  },
  {
   "cell_type": "code",
   "execution_count": 5,
   "metadata": {},
   "outputs": [],
   "source": [
    "U2 = U + V"
   ]
  },
  {
   "cell_type": "code",
   "execution_count": 6,
   "metadata": {},
   "outputs": [],
   "source": [
    "A = np.array([[0, 1],\n",
    "              [-k/m, -b/m]])\n",
    "\n",
    "B = np.array([[0],\n",
    "              [1/m]])\n",
    "\n",
    "C = np.array([[1, 0]])\n",
    "\n",
    "D = np.array([[0]])"
   ]
  },
  {
   "cell_type": "code",
   "execution_count": 7,
   "metadata": {},
   "outputs": [],
   "source": [
    "res = signal.lsim([A,B,C,D],U,T)\n",
    "X = res[2]\n",
    "Y = res[1]\n"
   ]
  },
  {
   "cell_type": "code",
   "execution_count": 8,
   "metadata": {},
   "outputs": [
    {
     "data": {
      "text/plain": [
       "array([ 1.28078954e+00,  1.07953766e+00,  5.77886154e-01, -3.90233896e-01,\n",
       "       -1.15160789e+00,  3.07683727e-01,  2.67416225e-02,  4.66392918e-01,\n",
       "       -1.32961548e-01,  9.50967305e-01, -1.51479457e-01, -8.97335415e-01,\n",
       "        7.68108492e-01, -1.26461746e-01,  1.57187669e+00, -7.22050015e-01,\n",
       "        1.11363267e-02,  5.30900660e-01, -1.02372502e-01, -5.82852228e-02,\n",
       "        1.01804427e+00,  2.28439936e-01,  2.65356477e-01,  4.01165879e-01,\n",
       "        1.53797273e+00,  1.41480823e+00, -2.09913407e-03,  3.51853872e-01,\n",
       "        5.82367761e-01,  1.42926129e+00,  1.17200961e+00,  1.91317390e+00,\n",
       "        1.63903093e-01,  1.44210443e+00,  7.26432854e-02, -9.96679762e-02,\n",
       "        1.98275314e+00,  1.63575715e+00,  3.00217360e+00,  3.25604803e-01,\n",
       "       -7.10092724e-01, -1.05769706e+00, -8.28494625e-02,  1.38007272e+00,\n",
       "        1.23689888e+00, -5.77073038e-01,  6.36775074e-02, -2.98024900e-01,\n",
       "       -2.62309600e+00, -1.13078227e+00, -1.51761527e+00, -1.48288696e+00,\n",
       "       -9.91056532e-01, -5.45225009e-01, -1.00179759e+00, -2.15730229e+00,\n",
       "       -7.27249147e-02, -2.63063581e+00, -3.20489041e+00, -1.59338791e+00,\n",
       "        1.83513007e-02, -1.90026426e+00, -2.32300366e+00, -1.02927831e+00,\n",
       "       -3.66916016e-01,  1.14173794e+00, -1.12802055e-01, -2.17779949e+00,\n",
       "       -1.16254369e+00, -1.39644956e+00, -1.78379666e-02, -1.35343236e+00,\n",
       "       -1.43846013e+00, -2.22421295e+00, -8.59813562e-02, -6.58378573e-01,\n",
       "       -6.83381985e-01, -2.16940949e+00,  6.97992824e-01, -1.11621019e+00,\n",
       "        1.87998238e+00,  9.35157974e-01,  1.67363777e+00,  6.00737166e-01,\n",
       "        6.23172518e-01,  2.26656116e+00,  1.24734301e+00,  2.41446271e+00,\n",
       "        1.87398025e+00,  2.61377048e+00,  1.50339871e+00,  2.11316618e+00,\n",
       "        2.70520792e+00,  5.87570394e-01,  1.75280431e+00,  5.60926164e-01,\n",
       "        3.04913938e+00,  1.15026409e+00,  2.18578166e+00,  1.18223881e+00,\n",
       "        1.50733448e+00])"
      ]
     },
     "execution_count": 8,
     "metadata": {},
     "output_type": "execute_result"
    }
   ],
   "source": [
    "Y1 = Y\n",
    "\n",
    "for i in range(len(V)-1):\n",
    "    Y1[i] = Y[i] + V[i]\n",
    "\n",
    "Y1"
   ]
  },
  {
   "cell_type": "code",
   "execution_count": 9,
   "metadata": {},
   "outputs": [],
   "source": [
    "w0 = 15\n",
    "l1 = 2*w0 - 1/2\n",
    "l2 = w0**2 -w0 - 3/4\n",
    "L = np.array([[l1],[l2]])\n",
    "H = A - L@C\n",
    "\n",
    "estX = np.array([[0],[0]]).T\n",
    "for i in range(0,samples - 1):\n",
    "    preX = np.array([estX[-1,:].T]).T\n",
    "    curX = np.array([Tp*H @ estX[-1,:].T]).T + Tp*B * U[i] + Tp*L* Y[i] + preX\n",
    "    estX = np.vstack([estX, curX.T])"
   ]
  },
  {
   "cell_type": "code",
   "execution_count": 10,
   "metadata": {},
   "outputs": [
    {
     "data": {
      "text/plain": [
       "array([[ 0.00000000e+00,  0.00000000e+00],\n",
       "       [ 3.77832914e+00,  2.68005211e+01],\n",
       "       [-1.50305360e+00, -3.13795661e+01],\n",
       "       [ 1.49776206e+00,  1.39032488e+01],\n",
       "       [-2.68150113e+00, -2.64184532e+01],\n",
       "       [-8.10161383e-01,  7.22257752e+00],\n",
       "       [ 3.20973944e+00,  3.03813163e+01],\n",
       "       [-3.14197250e+00, -3.80064887e+01],\n",
       "       [ 3.70205662e+00,  3.97775012e+01],\n",
       "       [-3.63349686e+00, -4.27575991e+01],\n",
       "       [ 5.61491251e+00,  5.57518758e+01],\n",
       "       [-5.82075621e+00, -6.81748141e+01],\n",
       "       [ 1.88585374e+00,  3.89277032e+01],\n",
       "       [ 2.48127559e+00,  1.34971174e+01],\n",
       "       [-3.86183781e+00, -4.18964139e+01],\n",
       "       [ 7.97797857e+00,  7.43836114e+01],\n",
       "       [-1.02487446e+01, -1.12081716e+02],\n",
       "       [ 8.80973260e+00,  1.09335211e+02],\n",
       "       [-4.67930056e+00, -7.01479150e+01],\n",
       "       [ 1.80784571e+00,  2.96970151e+01],\n",
       "       [-7.27539021e-01, -1.09227799e+01],\n",
       "       [ 3.32965371e+00,  2.63133732e+01],\n",
       "       [-3.18758960e+00, -4.01418381e+01],\n",
       "       [ 2.98441752e+00,  3.45177591e+01],\n",
       "       [-1.18439891e+00, -2.14865407e+01],\n",
       "       [ 4.69794336e+00,  3.67393992e+01],\n",
       "       [-1.31336535e+00, -3.42071205e+01],\n",
       "       [-8.65842058e-01, -4.87563218e+00],\n",
       "       [ 2.23879772e+00,  2.09777590e+01],\n",
       "       [-5.49894759e-01, -1.49223068e+01],\n",
       "       [ 3.79638490e+00,  2.73165633e+01],\n",
       "       [-1.21386588e+00, -2.93298444e+01],\n",
       "       [ 5.07791704e+00,  3.76954999e+01],\n",
       "       [-5.64887410e+00, -6.75286460e+01],\n",
       "       [ 8.51664796e+00,  8.47756249e+01],\n",
       "       [-7.91560335e+00, -9.70311731e+01],\n",
       "       [ 5.43828868e+00,  7.21253151e+01],\n",
       "       [ 2.45699036e+00, -4.37611262e+00],\n",
       "       [-4.03258866e-01, -2.16402945e+01],\n",
       "       [ 7.47873744e+00,  5.06795346e+01],\n",
       "       [-8.55505039e+00, -1.02350393e+02],\n",
       "       [ 4.35253542e+00,  6.77026906e+01],\n",
       "       [-4.83738134e+00, -4.94086399e+01],\n",
       "       [ 4.24762371e+00,  5.29469522e+01],\n",
       "       [ 1.08304351e+00, -1.02202788e+01],\n",
       "       [ 5.14888963e-01, -6.69330588e+00],\n",
       "       [-3.37572953e+00, -2.93571874e+01],\n",
       "       [ 3.83480249e+00,  4.43184681e+01],\n",
       "       [-3.92519150e+00, -4.48603411e+01],\n",
       "       [-4.57004388e+00, -1.50780730e+01],\n",
       "       [ 4.06797058e+00,  5.80011391e+01],\n",
       "       [-6.60939377e+00, -6.22799913e+01],\n",
       "       [ 2.28580220e+00,  4.86745212e+01],\n",
       "       [-2.51347893e+00, -2.26443994e+01],\n",
       "       [ 1.02843020e+00,  1.98416550e+01],\n",
       "       [-2.97657627e+00, -2.38130637e+01],\n",
       "       [-2.94102438e+00, -5.25199874e+00],\n",
       "       [ 4.99525918e+00,  5.52607434e+01],\n",
       "       [-1.19750567e+01, -1.07628741e+02],\n",
       "       [ 3.13405975e+00,  8.24194710e+01],\n",
       "       [-2.56996374e+00, -2.09741384e+01],\n",
       "       [ 2.96815179e+00,  3.44641155e+01],\n",
       "       [-7.94726400e+00, -6.94457275e+01],\n",
       "       [ 1.69973125e+00,  5.25006240e+01],\n",
       "       [-1.10078455e+00, -7.39722394e+00],\n",
       "       [ 3.24405223e-01,  8.45056961e+00],\n",
       "       [ 3.58059371e+00,  2.51197998e+01],\n",
       "       [-4.80294382e+00, -5.37474019e+01],\n",
       "       [-2.43350823e+00,  4.39189273e+00],\n",
       "       [ 1.75502645e+00,  3.10599934e+01],\n",
       "       [-4.43582845e+00, -3.65553006e+01],\n",
       "       [ 4.94171343e+00,  5.82281969e+01],\n",
       "       [-7.80614695e+00, -7.68304129e+01],\n",
       "       [ 3.29548788e+00,  6.11149359e+01],\n",
       "       [-6.87613598e+00, -5.76850559e+01],\n",
       "       [ 7.38631457e+00,  8.80606669e+01],\n",
       "       [-7.53946352e+00, -8.53224021e+01],\n",
       "       [ 4.15373681e+00,  6.32579626e+01],\n",
       "       [-8.17374853e+00, -7.25333289e+01],\n",
       "       [ 1.07445556e+01,  1.17651755e+02],\n",
       "       [-1.24795280e+01, -1.37391918e+02],\n",
       "       [ 1.61418357e+01,  1.71297320e+02],\n",
       "       [-1.15881316e+01, -1.56984472e+02],\n",
       "       [ 1.18356409e+01,  1.29620162e+02],\n",
       "       [-8.34530882e+00, -1.13044553e+02],\n",
       "       [ 6.80725587e+00,  8.11931378e+01],\n",
       "       [ 1.53152026e+00, -1.84814328e+01],\n",
       "       [-1.15494588e+00, -2.35834822e+01],\n",
       "       [ 7.01646124e+00,  5.24673582e+01],\n",
       "       [-2.90712187e+00, -5.84055789e+01],\n",
       "       [ 7.53895266e+00,  6.03801867e+01],\n",
       "       [-4.22791285e+00, -6.96454727e+01],\n",
       "       [ 7.51372302e+00,  6.69785807e+01],\n",
       "       [ 2.64615613e-02, -3.77176100e+01],\n",
       "       [-2.09002838e+00, -2.40807279e+01],\n",
       "       [ 6.83825525e+00,  5.77460628e+01],\n",
       "       [-5.90525928e+00, -7.71856921e+01],\n",
       "       [ 1.27916475e+01,  1.14617478e+02],\n",
       "       [-1.00886859e+01, -1.36015686e+02],\n",
       "       [ 1.25194248e+01,  1.28600552e+02],\n",
       "       [-8.06521860e+00, -1.16357788e+02]])"
      ]
     },
     "execution_count": 10,
     "metadata": {},
     "output_type": "execute_result"
    }
   ],
   "source": [
    "estX"
   ]
  },
  {
   "cell_type": "code",
   "execution_count": 244,
   "metadata": {},
   "outputs": [
    {
     "data": {
      "image/png": "[encoded data removed]",
      "text/plain": [
       "<Figure size 432x288 with 1 Axes>"
      ]
     },
     "metadata": {
      "needs_background": "light"
     },
     "output_type": "display_data"
    }
   ],
   "source": [
    "plt.figure()\n",
    "plt.plot(T, X)\n",
    "plt.plot(T,estX)\n",
    "plt.title(\"w0 = 15\")\n",
    "plt.legend([\"x1\",\"x2\",\"est x1\",\"est x2\"], loc=3)\n",
    "plt.xlabel(\"t\")\n",
    "plt.grid()\n",
    "plt.savefig(\"11.pdf\")"
   ]
  },
  {
   "cell_type": "code",
   "execution_count": 55,
   "metadata": {},
   "outputs": [
    {
     "data": {
      "text/plain": [
       "array([-4.+0.j, -4.+0.j])"
      ]
     },
     "execution_count": 55,
     "metadata": {},
     "output_type": "execute_result"
    }
   ],
   "source": [
    "eigenvalA, eigenvecA = al.eig(H)\n",
    "eigenvalA"
   ]
  },
  {
   "cell_type": "code",
   "execution_count": 258,
   "metadata": {},
   "outputs": [
    {
     "ename": "TypeError",
     "evalue": "array() missing required argument 'object' (pos 1)",
     "output_type": "error",
     "traceback": [
      "\u001b[1;31m---------------------------------------------------------------------------\u001b[0m",
      "\u001b[1;31mTypeError\u001b[0m                                 Traceback (most recent call last)",
      "\u001b[1;32m<ipython-input-258-e971a9d27ca1>\u001b[0m in \u001b[0;36m<module>\u001b[1;34m\u001b[0m\n\u001b[0;32m      1\u001b[0m \u001b[0mx1\u001b[0m \u001b[1;33m=\u001b[0m \u001b[0mY\u001b[0m\u001b[1;33m\u001b[0m\u001b[1;33m\u001b[0m\u001b[0m\n\u001b[1;32m----> 2\u001b[1;33m \u001b[0mx2p\u001b[0m \u001b[1;33m=\u001b[0m \u001b[0mnp\u001b[0m\u001b[1;33m.\u001b[0m\u001b[0marray\u001b[0m\u001b[1;33m(\u001b[0m\u001b[1;33m)\u001b[0m\u001b[1;33m\u001b[0m\u001b[1;33m\u001b[0m\u001b[0m\n\u001b[0m\u001b[0;32m      3\u001b[0m \u001b[1;32mfor\u001b[0m \u001b[0mi\u001b[0m \u001b[1;32min\u001b[0m \u001b[0mrange\u001b[0m\u001b[1;33m(\u001b[0m\u001b[1;36m0\u001b[0m\u001b[1;33m,\u001b[0m\u001b[0msamples\u001b[0m \u001b[1;33m-\u001b[0m \u001b[1;36m2\u001b[0m\u001b[1;33m)\u001b[0m\u001b[1;33m:\u001b[0m\u001b[1;33m\u001b[0m\u001b[1;33m\u001b[0m\u001b[0m\n\u001b[0;32m      4\u001b[0m     \u001b[0mx2\u001b[0m \u001b[1;33m=\u001b[0m \u001b[1;33m(\u001b[0m\u001b[0mx1\u001b[0m\u001b[1;33m[\u001b[0m\u001b[0mi\u001b[0m\u001b[1;33m]\u001b[0m\u001b[1;33m-\u001b[0m\u001b[0mx1\u001b[0m\u001b[1;33m[\u001b[0m\u001b[0mi\u001b[0m\u001b[1;33m-\u001b[0m\u001b[1;36m1\u001b[0m\u001b[1;33m]\u001b[0m\u001b[1;33m)\u001b[0m\u001b[1;33m/\u001b[0m\u001b[0mTp\u001b[0m\u001b[1;33m\u001b[0m\u001b[1;33m\u001b[0m\u001b[0m\n\u001b[0;32m      5\u001b[0m     \u001b[0mx2p\u001b[0m \u001b[1;33m=\u001b[0m \u001b[0mnp\u001b[0m\u001b[1;33m.\u001b[0m\u001b[0mvstack\u001b[0m\u001b[1;33m(\u001b[0m\u001b[1;33m[\u001b[0m\u001b[0mx2p\u001b[0m\u001b[1;33m,\u001b[0m \u001b[0mx2\u001b[0m\u001b[1;33m.\u001b[0m\u001b[0mT\u001b[0m\u001b[1;33m]\u001b[0m\u001b[1;33m)\u001b[0m\u001b[1;33m\u001b[0m\u001b[1;33m\u001b[0m\u001b[0m\n",
      "\u001b[1;31mTypeError\u001b[0m: array() missing required argument 'object' (pos 1)"
     ]
    }
   ],
   "source": [
    "x1 = Y\n",
    "x2p = np.array([[0],[0]])\n",
    "for i in range(0,samples - 2):\n",
    "    x2 = (x1[i]-x1[i-1])/Tp\n",
    "    x2p = np.vstack([x2p, x2.T])"
   ]
  },
  {
   "cell_type": "code",
   "execution_count": 248,
   "metadata": {},
   "outputs": [],
   "source": [
    "x2p[2] = -0.01207334478"
   ]
  },
  {
   "cell_type": "code",
   "execution_count": 256,
   "metadata": {},
   "outputs": [
    {
     "data": {
      "image/png": "[encoded data removed]",
      "text/plain": [
       "<Figure size 432x288 with 1 Axes>"
      ]
     },
     "metadata": {
      "needs_background": "light"
     },
     "output_type": "display_data"
    }
   ],
   "source": [
    "plt.figure()\n",
    "plt.plot(T, x1)\n",
    "plt.plot(T, x2p)\n",
    "plt.plot(T,estX)\n",
    "plt.legend([\"x1\",\"x2\",\"est x1\",\"est x2\"], loc=3)\n",
    "plt.savefig(\"15.pdf\")"
   ]
  },
  {
   "cell_type": "code",
   "execution_count": null,
   "metadata": {},
   "outputs": [],
   "source": []
  }
 ],
 "metadata": {
  "kernelspec": {
   "display_name": "Python 3",
   "language": "python",
   "name": "python3"
  },
  "language_info": {
   "codemirror_mode": {
    "name": "ipython",
    "version": 3
   },
   "file_extension": ".py",
   "mimetype": "text/x-python",
   "name": "python",
   "nbconvert_exporter": "python",
   "pygments_lexer": "ipython3",
   "version": "3.8.8"
  }
 },
 "nbformat": 4,
 "nbformat_minor": 4
}
