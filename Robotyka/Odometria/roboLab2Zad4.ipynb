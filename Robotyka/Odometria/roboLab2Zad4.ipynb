{
 "cells": [
  {
   "cell_type": "code",
   "execution_count": 1,
   "metadata": {},
   "outputs": [],
   "source": [
    "import numpy as np\n",
    "import matplotlib.pyplot as plt\n",
    "from scipy.integrate import solve_ivp\n"
   ]
  },
  {
   "cell_type": "code",
   "execution_count": 2,
   "metadata": {},
   "outputs": [],
   "source": [
    "initCondi = [0, 0, 0]\n",
    "N = 150\n",
    "\n",
    "wl = np.linspace(.5, .5, N)\n",
    "wr = np.linspace(1, 1, N)\n",
    "t = np.linspace(0, 25, N)\n",
    "r = 0.025\n",
    "d = 0.145"
   ]
  },
  {
   "cell_type": "code",
   "execution_count": 3,
   "metadata": {},
   "outputs": [],
   "source": [
    "phi_t = [initCondi[0]]\n",
    "\n",
    "for i in range(len(t)-1):\n",
    "    calka = phi_t[i] + np.trapz([(wr[i]-wl[i])*r/d, (wr[i+1]-wl[i+1])*r/d],[t[i], t[i+1]])\n",
    "    phi_t.append(calka)"
   ]
  },
  {
   "cell_type": "code",
   "execution_count": 4,
   "metadata": {},
   "outputs": [],
   "source": [
    "x_t = [initCondi[1]]\n",
    "\n",
    "for i in range(len(t)-1):\n",
    "    calka = x_t[i] + np.trapz([(wr[i]+wl[i])*r/2*np.cos(phi_t[i]), (wr[i+1]+wl[i+1])*r/2*np.cos(phi_t[i+1])],[t[i], t[i+1]])\n",
    "    x_t.append(calka)"
   ]
  },
  {
   "cell_type": "code",
   "execution_count": 5,
   "metadata": {},
   "outputs": [],
   "source": [
    "y_t = [initCondi[2]]\n",
    "\n",
    "for i in range(len(t)-1):\n",
    "    calka = y_t[i] + np.trapz([(wr[i]+wl[i])*r/2*np.sin(phi_t[i]), (wr[i+1]+wl[i+1])*r/2*np.sin(phi_t[i+1])],[t[i], t[i+1]])\n",
    "    y_t.append(calka)"
   ]
  },
  {
   "cell_type": "code",
   "execution_count": 6,
   "metadata": {},
   "outputs": [],
   "source": [
    "a = 0\n",
    "b = -0.0725\n",
    "Pxr = []\n",
    "Pyr = []\n",
    "\n",
    "for i in range(len(t)):\n",
    "    newPx = x_t[i] + np.cos(phi_t[i])*a + (-1)*np.sin(phi_t[i])*b\n",
    "    Pxr.append(newPx)\n",
    "    newPy = y_t[i] + np.sin(phi_t[i])*a + np.cos(phi_t[i])*b\n",
    "    Pyr.append(newPy)"
   ]
  },
  {
   "cell_type": "code",
   "execution_count": 7,
   "metadata": {},
   "outputs": [],
   "source": [
    "a = 0\n",
    "b = 0.0725\n",
    "Pxl = []\n",
    "Pyl = []\n",
    "\n",
    "for i in range(len(t)):\n",
    "    newPx = x_t[i] + np.cos(phi_t[i])*a + (-1)*np.sin(phi_t[i])*b\n",
    "    Pxl.append(newPx)\n",
    "    newPy = y_t[i] + np.sin(phi_t[i])*a + np.cos(phi_t[i])*b\n",
    "    Pyl.append(newPy)"
   ]
  },
  {
   "cell_type": "code",
   "execution_count": 8,
   "metadata": {},
   "outputs": [],
   "source": [
    "def CircleRadius(w1, w2, d):\n",
    "    R = (w1+w2)/(w1 - w2)*d/2\n",
    "    return R"
   ]
  },
  {
   "cell_type": "code",
   "execution_count": 9,
   "metadata": {},
   "outputs": [
    {
     "data": {
      "image/png": "[encoded data removed]",
      "text/plain": [
       "<Figure size 432x288 with 1 Axes>"
      ]
     },
     "metadata": {
      "needs_background": "light"
     },
     "output_type": "display_data"
    }
   ],
   "source": [
    "R = CircleRadius(wr[0], wl[0], d)\n",
    "\n",
    "plt.plot(Pxl,Pyl, label=\"lewe koło\")\n",
    "plt.plot(x_t, y_t, label=\"środek robota\")\n",
    "plt.plot(Pxr,Pyr, label=\"prawe koło\")\n",
    "plt.xlabel(\"oś X, t = 25, N = 150, promień okręgu = %.2f\" %R)\n",
    "plt.ylabel(\"oś Y\")\n",
    "plt.legend(loc=4)\n",
    "plt.savefig(\"4.pdf\", format='pdf')"
   ]
  },
  {
   "cell_type": "code",
   "execution_count": null,
   "metadata": {},
   "outputs": [],
   "source": []
  }
 ],
 "metadata": {
  "kernelspec": {
   "display_name": "Python 3",
   "language": "python",
   "name": "python3"
  },
  "language_info": {
   "codemirror_mode": {
    "name": "ipython",
    "version": 3
   },
   "file_extension": ".py",
   "mimetype": "text/x-python",
   "name": "python",
   "nbconvert_exporter": "python",
   "pygments_lexer": "ipython3",
   "version": "3.8.5"
  }
 },
 "nbformat": 4,
 "nbformat_minor": 4
}
